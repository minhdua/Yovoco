{
 "cells": [
  {
   "cell_type": "markdown",
   "metadata": {},
   "source": [
    "## Test NoteBook"
   ]
  },
  {
   "cell_type": "markdown",
   "metadata": {},
   "source": [
    "### FireStore\n",
    "[Test123](https://console.firebase.google.com/project/test123-efa09/firestore/data/~2FCollection~2FB1LOff29q0EiTOSBAkGP)"
   ]
  },
  {
   "cell_type": "markdown",
   "metadata": {},
   "source": [
    "### Setup web"
   ]
  },
  {
   "cell_type": "markdown",
   "metadata": {},
   "source": [
    "1. Download NodeJs [at here](https://nodejs.org/en/download/)\n",
    "2. Install Angular\n",
    "\n",
    "    ```console\n",
    "    npm install -g @angular/cli\n",
    "    ```\n",
    "3. Create new project\n",
    "\n",
    "    ```console\n",
    "    ng new my-app\n",
    "    ```"
   ]
  },
  {
   "cell_type": "markdown",
   "metadata": {},
   "source": [
    "### Documentation\n",
    "\n",
    "1. [Design](https://docs.google.com/spreadsheets/d/1a_c4aGCzoA8_bJP6IOMsq8tF6m8AcP8IeQW90YhbHeE/edit)\n",
    "2. [AngularFire](https://github.com/angular/angularfire/)\n",
    "3. [Moment](https://momentjs.com/docs/#/use-it/typescript/)\n",
    "4. [PrimeNg](http://primefaces.org/primeng/setup)\n",
    "5. [PrimeFlex](https://www.primefaces.org/primeflex/flexdirection)"
   ]
  },
  {
   "cell_type": "markdown",
   "metadata": {},
   "source": [
    "### Conventions"
   ]
  }
 ],
 "metadata": {
  "kernelspec": {
   "display_name": "Python 3.10.0 ('venv': venv)",
   "language": "python",
   "name": "python3"
  },
  "language_info": {
   "codemirror_mode": {
    "name": "ipython",
    "version": 3
   },
   "file_extension": ".py",
   "mimetype": "text/x-python",
   "name": "python",
   "nbconvert_exporter": "python",
   "pygments_lexer": "ipython3",
   "version": "3.10.0"
  },
  "orig_nbformat": 4,
  "vscode": {
   "interpreter": {
    "hash": "3881659d89fba8004ddf170d7121db660dcd70fdb1a20b062e2b142731f1d234"
   }
  }
 },
 "nbformat": 4,
 "nbformat_minor": 2
}
